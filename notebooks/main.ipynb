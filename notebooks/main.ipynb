{
 "cells": [
  {
   "cell_type": "code",
   "execution_count": 1,
   "id": "b5bdce22-57a9-4c45-b051-ba8c3deee584",
   "metadata": {},
   "outputs": [
    {
     "name": "stdout",
     "output_type": "stream",
     "text": [
      "Requirement already satisfied: pillow in /usr/local/lib/python3.10/dist-packages (10.3.0)\n",
      "Requirement already satisfied: matplotlib in /usr/local/lib/python3.10/dist-packages (3.8.4)\n",
      "Requirement already satisfied: torchvision in /usr/local/lib/python3.10/dist-packages (0.17.2)\n",
      "Requirement already satisfied: kiwisolver>=1.3.1 in /usr/local/lib/python3.10/dist-packages (from matplotlib) (1.4.5)\n",
      "Requirement already satisfied: contourpy>=1.0.1 in /usr/local/lib/python3.10/dist-packages (from matplotlib) (1.2.1)\n",
      "Requirement already satisfied: numpy>=1.21 in /usr/local/lib/python3.10/dist-packages (from matplotlib) (1.26.4)\n",
      "Requirement already satisfied: pyparsing>=2.3.1 in /usr/local/lib/python3.10/dist-packages (from matplotlib) (3.1.2)\n",
      "Requirement already satisfied: fonttools>=4.22.0 in /usr/local/lib/python3.10/dist-packages (from matplotlib) (4.51.0)\n",
      "Requirement already satisfied: packaging>=20.0 in /usr/local/lib/python3.10/dist-packages (from matplotlib) (24.0)\n",
      "Requirement already satisfied: cycler>=0.10 in /usr/local/lib/python3.10/dist-packages (from matplotlib) (0.12.1)\n",
      "Requirement already satisfied: python-dateutil>=2.7 in /usr/local/lib/python3.10/dist-packages (from matplotlib) (2.9.0.post0)\n",
      "Requirement already satisfied: torch==2.2.2 in /usr/local/lib/python3.10/dist-packages (from torchvision) (2.2.2)\n",
      "Requirement already satisfied: nvidia-cuda-runtime-cu12==12.1.105 in /usr/local/lib/python3.10/dist-packages (from torch==2.2.2->torchvision) (12.1.105)\n",
      "Requirement already satisfied: nvidia-nvtx-cu12==12.1.105 in /usr/local/lib/python3.10/dist-packages (from torch==2.2.2->torchvision) (12.1.105)\n",
      "Requirement already satisfied: typing-extensions>=4.8.0 in /usr/local/lib/python3.10/dist-packages (from torch==2.2.2->torchvision) (4.10.0)\n",
      "Requirement already satisfied: jinja2 in /usr/local/lib/python3.10/dist-packages (from torch==2.2.2->torchvision) (3.1.3)\n",
      "Requirement already satisfied: networkx in /usr/local/lib/python3.10/dist-packages (from torch==2.2.2->torchvision) (3.2.1)\n",
      "Requirement already satisfied: nvidia-cuda-cupti-cu12==12.1.105 in /usr/local/lib/python3.10/dist-packages (from torch==2.2.2->torchvision) (12.1.105)\n",
      "Requirement already satisfied: nvidia-cufft-cu12==11.0.2.54 in /usr/local/lib/python3.10/dist-packages (from torch==2.2.2->torchvision) (11.0.2.54)\n",
      "Requirement already satisfied: nvidia-curand-cu12==10.3.2.106 in /usr/local/lib/python3.10/dist-packages (from torch==2.2.2->torchvision) (10.3.2.106)\n",
      "Requirement already satisfied: nvidia-cusolver-cu12==11.4.5.107 in /usr/local/lib/python3.10/dist-packages (from torch==2.2.2->torchvision) (11.4.5.107)\n",
      "Requirement already satisfied: filelock in /usr/local/lib/python3.10/dist-packages (from torch==2.2.2->torchvision) (3.13.1)\n",
      "Requirement already satisfied: nvidia-cudnn-cu12==8.9.2.26 in /usr/local/lib/python3.10/dist-packages (from torch==2.2.2->torchvision) (8.9.2.26)\n",
      "Requirement already satisfied: sympy in /usr/local/lib/python3.10/dist-packages (from torch==2.2.2->torchvision) (1.12)\n",
      "Requirement already satisfied: nvidia-cuda-nvrtc-cu12==12.1.105 in /usr/local/lib/python3.10/dist-packages (from torch==2.2.2->torchvision) (12.1.105)\n",
      "Requirement already satisfied: triton==2.2.0 in /usr/local/lib/python3.10/dist-packages (from torch==2.2.2->torchvision) (2.2.0)\n",
      "Requirement already satisfied: nvidia-nccl-cu12==2.19.3 in /usr/local/lib/python3.10/dist-packages (from torch==2.2.2->torchvision) (2.19.3)\n",
      "Requirement already satisfied: nvidia-cusparse-cu12==12.1.0.106 in /usr/local/lib/python3.10/dist-packages (from torch==2.2.2->torchvision) (12.1.0.106)\n",
      "Requirement already satisfied: fsspec in /usr/local/lib/python3.10/dist-packages (from torch==2.2.2->torchvision) (2024.2.0)\n",
      "Requirement already satisfied: nvidia-cublas-cu12==12.1.3.1 in /usr/local/lib/python3.10/dist-packages (from torch==2.2.2->torchvision) (12.1.3.1)\n",
      "Requirement already satisfied: nvidia-nvjitlink-cu12 in /usr/local/lib/python3.10/dist-packages (from nvidia-cusolver-cu12==11.4.5.107->torch==2.2.2->torchvision) (12.4.99)\n",
      "Requirement already satisfied: six>=1.5 in /usr/local/lib/python3.10/dist-packages (from python-dateutil>=2.7->matplotlib) (1.16.0)\n",
      "Requirement already satisfied: MarkupSafe>=2.0 in /usr/local/lib/python3.10/dist-packages (from jinja2->torch==2.2.2->torchvision) (2.1.5)\n",
      "Requirement already satisfied: mpmath>=0.19 in /usr/local/lib/python3.10/dist-packages (from sympy->torch==2.2.2->torchvision) (1.3.0)\n",
      "\u001b[33mWARNING: Running pip as the 'root' user can result in broken permissions and conflicting behaviour with the system package manager. It is recommended to use a virtual environment instead: https://pip.pypa.io/warnings/venv\u001b[0m\u001b[33m\n",
      "\u001b[0mNote: you may need to restart the kernel to use updated packages.\n"
     ]
    }
   ],
   "source": [
    "pip install pillow matplotlib torchvision"
   ]
  },
  {
   "cell_type": "code",
   "execution_count": 1,
   "id": "08f8b6f2-0dce-4901-9541-186f746e054a",
   "metadata": {},
   "outputs": [],
   "source": [
    "import sys\n",
    "sys.path.append('/app/src')"
   ]
  },
  {
   "cell_type": "code",
   "execution_count": 2,
   "id": "dcad020a-a6f7-4cf5-b1d9-e132142ca397",
   "metadata": {},
   "outputs": [],
   "source": [
    "import torch\n",
    "import torch.nn as nn\n",
    "import torch.optim as optim\n",
    "import itertools\n",
    "from model import Generator, Discriminator\n",
    "from datamodule import DataModule\n",
    "from trainer import Trainer"
   ]
  },
  {
   "cell_type": "code",
   "execution_count": 3,
   "id": "0f98c4e4-1d4e-43df-b93a-70616e595483",
   "metadata": {},
   "outputs": [],
   "source": [
    "def experiment_CycleGAN():\n",
    "    generator_A2B = Generator(input_nc=3, output_nc=3)\n",
    "    generator_B2A = Generator(input_nc=3, output_nc=3)\n",
    "    discriminator_A = Discriminator(input_nc=3)\n",
    "    discriminator_B = Discriminator(input_nc=3)\n",
    "    \n",
    "    config = {\n",
    "        'datamodule': DataModule(),\n",
    "        'generator_A2B': generator_A2B,\n",
    "        'generator_B2A': generator_B2A,\n",
    "        'discriminator_A': discriminator_A,\n",
    "        'discriminator_B': discriminator_B,\n",
    "        'criterion_GAN': nn.MSELoss(),\n",
    "        'criterion_cycle': nn.L1Loss(),\n",
    "        'criterion_identity': nn.L1Loss(),\n",
    "        'optimizer_G': optim.Adam(itertools.chain(generator_A2B.parameters(), generator_B2A.parameters())),\n",
    "        'optimizer_D_A': optim.Adam(discriminator_A.parameters()),\n",
    "        'optimizer_D_B': optim.Adam(discriminator_B.parameters()),\n",
    "        'max_epoch': 20,\n",
    "        'output_dir': '../output'\n",
    "    }\n",
    "    \n",
    "    trainer = Trainer(config)\n",
    "    trainer.fit()\n",
    "\n",
    "def experiment_UVCGAN():\n",
    "    pass # implement later"
   ]
  },
  {
   "cell_type": "code",
   "execution_count": null,
   "id": "11ce9b6b-d239-4664-9954-a4c9fbf54416",
   "metadata": {},
   "outputs": [
    {
     "name": "stdout",
     "output_type": "stream",
     "text": [
      "Epoch 1: Training loss: generator = 5.736040580007765; discriminator A = 0.2057547814026475; discriminator B = 0.263582377201981\n",
      "Epoch 1: Validation loss: generator = 4.814098920822143; discriminator A = 0.1278309144079685; discriminator B = 0.21657137095928192\n",
      "Epoch 2: Training loss: generator = 4.661991155942281; discriminator A = 0.17899720687833098; discriminator B = 0.2292507915198803\n",
      "Epoch 2: Validation loss: generator = 4.370319237709046; discriminator A = 0.11638226494193077; discriminator B = 0.1261696620285511\n",
      "Epoch 3: Training loss: generator = 4.352972348001268; discriminator A = 0.19751237283150355; discriminator B = 0.22738348027070363\n",
      "Epoch 3: Validation loss: generator = 3.7413324022293093; discriminator A = 0.21383111268281937; discriminator B = 0.19663842901587486\n",
      "Epoch 4: Training loss: generator = 4.165625229941474; discriminator A = 0.19419127757350604; discriminator B = 0.22590812921524048\n",
      "Epoch 4: Validation loss: generator = 3.8576994800567626; discriminator A = 0.16922154635190964; discriminator B = 0.24279332548379898\n",
      "Epoch 5: Training loss: generator = 4.149336348639594; discriminator A = 0.19888096883893014; discriminator B = 0.2172780745724837\n",
      "Epoch 5: Validation loss: generator = 4.090470252037048; discriminator A = 0.18236211135983468; discriminator B = 0.15313921317458154\n",
      "Epoch 6: Training loss: generator = 4.108801026874119; discriminator A = 0.19976895115441745; discriminator B = 0.22777691793110635\n",
      "Epoch 6: Validation loss: generator = 4.496926274299621; discriminator A = 0.17599150329828261; discriminator B = 0.1741923239827156\n",
      "Epoch 7: Training loss: generator = 4.0962126366297404; discriminator A = 0.18694317958421178; discriminator B = 0.2132098283701473\n",
      "Epoch 7: Validation loss: generator = 3.978493542671204; discriminator A = 0.18430140405893325; discriminator B = 0.19561971724033356\n",
      "Epoch 8: Training loss: generator = 4.0563113726509945; discriminator A = 0.18501559212803842; discriminator B = 0.2056455060508516\n",
      "Epoch 8: Validation loss: generator = 3.976285982131958; discriminator A = 0.2051675535738468; discriminator B = 0.16899401545524598\n",
      "Epoch 9: Training loss: generator = 4.033844691382514; discriminator A = 0.19512057992319265; discriminator B = 0.20605609718296264\n",
      "Epoch 9: Validation loss: generator = 4.46910626411438; discriminator A = 0.19392561793327331; discriminator B = 0.255440813601017\n",
      "Epoch 10: Training loss: generator = 4.038938433329264; discriminator A = 0.2087054502301746; discriminator B = 0.21468266093068653\n",
      "Epoch 10: Validation loss: generator = 3.862746949195862; discriminator A = 0.1727910593152046; discriminator B = 0.23513935953378678\n",
      "Epoch 11: Training loss: generator = 3.9648892736434935; discriminator A = 0.21077891608079274; discriminator B = 0.20477262771791882\n",
      "Epoch 11: Validation loss: generator = 3.916132216453552; discriminator A = 0.12899206794798374; discriminator B = 0.26424656599760055\n",
      "Epoch 12: Training loss: generator = 3.8874221356709797; discriminator A = 0.21398642644286156; discriminator B = 0.1889053039583895\n",
      "Epoch 12: Validation loss: generator = 4.157451515197754; discriminator A = 0.20202339455485344; discriminator B = 0.23439904153347016\n",
      "Epoch 13: Training loss: generator = 3.9050416310628253; discriminator A = 0.21219393517408106; discriminator B = 0.1936223119828436\n",
      "Epoch 13: Validation loss: generator = 3.8866417455673217; discriminator A = 0.22491605073213577; discriminator B = 0.20602321475744248\n"
     ]
    }
   ],
   "source": [
    "experiment_CycleGAN()\n",
    "# experiment_UVCGAN()"
   ]
  },
  {
   "cell_type": "code",
   "execution_count": null,
   "id": "9a40a516-728d-4baf-add2-14a6632d7760",
   "metadata": {},
   "outputs": [],
   "source": []
  }
 ],
 "metadata": {
  "kernelspec": {
   "display_name": "Python 3 (ipykernel)",
   "language": "python",
   "name": "python3"
  },
  "language_info": {
   "codemirror_mode": {
    "name": "ipython",
    "version": 3
   },
   "file_extension": ".py",
   "mimetype": "text/x-python",
   "name": "python",
   "nbconvert_exporter": "python",
   "pygments_lexer": "ipython3",
   "version": "3.10.12"
  }
 },
 "nbformat": 4,
 "nbformat_minor": 5
}
